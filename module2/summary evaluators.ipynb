{
 "cells": [
  {
   "metadata": {},
   "cell_type": "markdown",
   "source": "# Summary Evaluators",
   "id": "c095ecbb5f880729"
  },
  {
   "metadata": {},
   "cell_type": "markdown",
   "source": "### Setup",
   "id": "d6e6c69e2cde8dd7"
  },
  {
   "metadata": {
    "ExecuteTime": {
     "end_time": "2025-10-04T15:30:28.031588Z",
     "start_time": "2025-10-04T15:30:28.025555Z"
    }
   },
   "cell_type": "code",
   "source": [
    "from dotenv import load_dotenv\n",
    "load_dotenv(dotenv_path=\".env\", override=True)"
   ],
   "id": "709820899198c901",
   "outputs": [
    {
     "data": {
      "text/plain": [
       "True"
      ]
     },
     "execution_count": 7,
     "metadata": {},
     "output_type": "execute_result"
    }
   ],
   "execution_count": 7
  },
  {
   "metadata": {},
   "cell_type": "markdown",
   "source": "### Task",
   "id": "fb5846ea26b4516"
  },
  {
   "metadata": {},
   "cell_type": "markdown",
   "source": [
    "Our task here is to analyze the toxictity of random statements, classifying them as `Toxic` or `Not toxic`. \n",
    "\n",
    "Take a look at our dataset!"
   ],
   "id": "8265cf9511548c33"
  },
  {
   "metadata": {
    "ExecuteTime": {
     "end_time": "2025-10-04T15:30:30.538758Z",
     "start_time": "2025-10-04T15:30:28.045896Z"
    }
   },
   "cell_type": "code",
   "source": [
    "from langsmith import Client\n",
    "\n",
    "client = Client()\n",
    "dataset = client.clone_public_dataset(\n",
    "    \"https://smith.langchain.com/public/89ef0d44-a252-4011-8bb8-6a114afc1522/d\"\n",
    ")"
   ],
   "id": "2fdd2ee15ca505e9",
   "outputs": [],
   "execution_count": 8
  },
  {
   "metadata": {},
   "cell_type": "markdown",
   "source": "This is a simple toxicity classifier!",
   "id": "f1ae339e87367fb7"
  },
  {
   "metadata": {
    "ExecuteTime": {
     "end_time": "2025-10-04T15:30:30.923042Z",
     "start_time": "2025-10-04T15:30:30.543956Z"
    }
   },
   "cell_type": "code",
   "source": [
    "from openai import OpenAI\n",
    "openai_client = OpenAI()\n",
    "from pydantic import BaseModel, Field\n",
    "\n",
    "class Toxicity(BaseModel):\n",
    "    toxicity: str = Field(description=\"\"\"'Toxic' if this the statement is toxic, 'Not toxic' if the statement is not toxic.\"\"\")\n",
    "\n",
    "def good_classifier(inputs: dict) -> dict:\n",
    "    completion = openai_client.beta.chat.completions.parse(\n",
    "        model=\"gpt-4o\",\n",
    "        messages=[\n",
    "            {\n",
    "                \"role\": \"user\",\n",
    "                \"content\": f\"This is the statement: {inputs['statement']}\"\n",
    "            }\n",
    "        ],\n",
    "        response_format=Toxicity,\n",
    "    )\n",
    "\n",
    "    toxicity_score = completion.choices[0].message.parsed.toxicity\n",
    "    return {\"class\": toxicity_score}"
   ],
   "id": "9aa607654878a98a",
   "outputs": [],
   "execution_count": 9
  },
  {
   "metadata": {
    "ExecuteTime": {
     "end_time": "2025-10-04T15:30:30.940954Z",
     "start_time": "2025-10-04T15:30:30.935894Z"
    }
   },
   "cell_type": "code",
   "source": [
    "def bad_classifier(inputs: dict) -> dict:\n",
    "    completion = openai_client.beta.chat.completions.parse(\n",
    "        model=\"gpt-4o\",\n",
    "        messages=[\n",
    "            {\n",
    "                \"role\": \"user\",\n",
    "                \"content\": f\"Just read this and say something about it: {inputs['statement']}\"\n",
    "            }\n",
    "        ],\n",
    "        response_format=Toxicity,\n",
    "    )\n",
    "\n",
    "    toxicity_score = completion.choices[0].message.parsed.toxicity\n",
    "    return {\"class\": toxicity_score}"
   ],
   "id": "3616a3f63de46cf2",
   "outputs": [],
   "execution_count": 10
  },
  {
   "metadata": {},
   "cell_type": "markdown",
   "source": "### Summary Evaluator",
   "id": "38d4bf4ea6019c31"
  },
  {
   "metadata": {},
   "cell_type": "markdown",
   "source": [
    "These are the fields that summary evaluator functions get access to:\n",
    "- `inputs: list[dict]`: A list of inputs from the examples in our dataset\n",
    "- `outputs: list[dict]`: A list of the dict outputs produced from running our target over each input\n",
    "- `reference_outputs: list[dict]`: A list of reference_outputs from the examples in our dataset\n",
    "- `runs: list[Run]`: A list of the Run objects from running our target over the dataset.\n",
    "- `examples: list[Example]`: A list of the full dataset Examples, including the example inputs, outputs (if available), and metdata (if available)."
   ],
   "id": "adadb38b6a9ce2d4"
  },
  {
   "metadata": {},
   "cell_type": "markdown",
   "source": [
    "Now we'll define our summary evaluator! Here, we'll compute the f1-score, which is a combination of precision and recall.\n",
    "\n",
    "This sort of metric can only be computed over all of the examples in our experiment, so our evaluator takes in a list of outputs, and a list of reference_outputs."
   ],
   "id": "95be3ed5cf48beb1"
  },
  {
   "metadata": {
    "ExecuteTime": {
     "end_time": "2025-10-04T15:30:30.958459Z",
     "start_time": "2025-10-04T15:30:30.947836Z"
    }
   },
   "cell_type": "code",
   "source": [
    "def f1_score_summary_evaluator(outputs: list[dict], reference_outputs: list[dict]) -> dict:\n",
    "    true_positives = 0\n",
    "    false_positives = 0\n",
    "    false_negatives = 0\n",
    "    for output_dict, reference_output_dict in zip(outputs, reference_outputs):\n",
    "        output = output_dict[\"class\"]\n",
    "        reference_output = reference_output_dict[\"class\"]\n",
    "        if output == \"Toxic\" and reference_output == \"Toxic\":\n",
    "            true_positives += 1\n",
    "        elif output == \"Toxic\" and reference_output == \"Not toxic\":\n",
    "            false_positives += 1\n",
    "        elif output == \"Not toxic\" and reference_output == \"Toxic\":\n",
    "            false_negatives += 1\n",
    "\n",
    "    if true_positives == 0:\n",
    "        return {\"key\": \"f1_score\", \"score\": 0.0}\n",
    "\n",
    "    precision = true_positives / (true_positives + false_positives)\n",
    "    recall = true_positives / (true_positives + false_negatives)\n",
    "    f1_score = 2 * (precision * recall) / (precision + recall)\n",
    "    return {\"key\": \"f1_score\", \"score\": f1_score}\n"
   ],
   "id": "38f846eaa2f60309",
   "outputs": [],
   "execution_count": 11
  },
  {
   "metadata": {},
   "cell_type": "markdown",
   "source": "Note that we pass in `f1_score_summary_evaluator` as a summary evaluator!",
   "id": "bc828fbc3c4bf55f"
  },
  {
   "metadata": {
    "ExecuteTime": {
     "end_time": "2025-10-04T15:30:40.283289Z",
     "start_time": "2025-10-04T15:30:30.972924Z"
    }
   },
   "cell_type": "code",
   "source": [
    "results = client.evaluate(\n",
    "    good_classifier,\n",
    "    data=dataset,\n",
    "    summary_evaluators=[f1_score_summary_evaluator],\n",
    "    experiment_prefix=\"Good classifier\"\n",
    ")"
   ],
   "id": "a3c9dfc886178a72",
   "outputs": [
    {
     "name": "stdout",
     "output_type": "stream",
     "text": [
      "View the evaluation results for experiment: 'Good classifier-bcf3abe7' at:\n",
      "https://smith.langchain.com/o/bf0fc575-5ea9-4d25-adae-f03518e40c65/datasets/bb790a4f-8c46-4551-ab19-a82c1af75c3a/compare?selectedSessions=c382ced1-0610-4c17-aa94-0ab2ec5fab24\n",
      "\n",
      "\n"
     ]
    },
    {
     "name": "stderr",
     "output_type": "stream",
     "text": [
      "9it [00:07,  1.15it/s]\n"
     ]
    }
   ],
   "execution_count": 12
  },
  {
   "metadata": {
    "ExecuteTime": {
     "end_time": "2025-10-04T15:31:23.075869Z",
     "start_time": "2025-10-04T15:31:13.275066Z"
    }
   },
   "cell_type": "code",
   "source": [
    "results = client.evaluate(\n",
    "    bad_classifier,\n",
    "    data=dataset,\n",
    "    summary_evaluators=[f1_score_summary_evaluator],\n",
    "    experiment_prefix=\"Bad classifier\"\n",
    ")"
   ],
   "id": "934aba5e54ffe510",
   "outputs": [
    {
     "name": "stdout",
     "output_type": "stream",
     "text": [
      "View the evaluation results for experiment: 'Bad classifier-aabfc900' at:\n",
      "https://smith.langchain.com/o/bf0fc575-5ea9-4d25-adae-f03518e40c65/datasets/bb790a4f-8c46-4551-ab19-a82c1af75c3a/compare?selectedSessions=b6c6839f-fc87-4e0b-a7ea-610bcb791917\n",
      "\n",
      "\n"
     ]
    },
    {
     "name": "stderr",
     "output_type": "stream",
     "text": [
      "9it [00:08,  1.09it/s]\n"
     ]
    }
   ],
   "execution_count": 14
  }
 ],
 "metadata": {},
 "nbformat": 4,
 "nbformat_minor": 5
}
